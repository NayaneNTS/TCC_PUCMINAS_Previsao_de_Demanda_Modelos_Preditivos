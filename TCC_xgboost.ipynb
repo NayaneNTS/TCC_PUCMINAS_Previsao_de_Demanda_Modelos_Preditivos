{
 "cells": [
  {
   "cell_type": "code",
   "execution_count": 276,
   "source": [
    "\r\n",
    "# ========================================================================================== XGBRegressor REGRESSOR ================================================================================================\r\n",
    "# COULD BE AS ONE OF THE NEXT STEPS OF MODELING IMPROVEMENT "
   ],
   "outputs": [],
   "metadata": {}
  },
  {
   "cell_type": "code",
   "execution_count": 277,
   "source": [
    "\r\n",
    "\r\n",
    "import xgboost\r\n",
    "print(xgboost.__version__)"
   ],
   "outputs": [
    {
     "output_type": "stream",
     "name": "stdout",
     "text": [
      "1.2.0\n"
     ]
    }
   ],
   "metadata": {}
  },
  {
   "cell_type": "code",
   "execution_count": 280,
   "source": [
    "\r\n",
    "from sklearn.model_selection import RepeatedKFold\r\n",
    "from sklearn.model_selection import cross_val_score\r\n",
    "\r\n",
    "# define model evaluation method\r\n",
    "cv = RepeatedKFold(n_splits=10, n_repeats=3, random_state=1)\r\n",
    "# evaluate model\r\n",
    "scores = cross_val_score(model, X1, y, scoring='neg_mean_absolute_error', cv=cv, n_jobs=-1)"
   ],
   "outputs": [],
   "metadata": {}
  },
  {
   "cell_type": "code",
   "execution_count": 281,
   "source": [
    "from numpy import absolute \r\n",
    "# force scores to be positive\r\n",
    "scores = absolute(scores)\r\n",
    "print('Mean MAE: %.3f (%.3f)' % (scores.mean(), scores.std()) )"
   ],
   "outputs": [
    {
     "output_type": "stream",
     "name": "stdout",
     "text": [
      "Mean MAE: 2.955 (0.546)\n"
     ]
    }
   ],
   "metadata": {}
  },
  {
   "cell_type": "code",
   "execution_count": 282,
   "source": [
    "# from numpy import asarray\r\n",
    "\r\n",
    "# # define new data\r\n",
    "# row = [0.00632,18.00,2.310,0,0.5380,6.5750,65.20,4.0900,1,296.0,15.30,396.90,4.98]\r\n",
    "# new_data = asarray([row])\r\n",
    "# # make a prediction\r\n",
    "# yhat = modelXB.predict(new_data)\r\n",
    "# # summarize prediction\r\n",
    "# print('Predicted: %.3f' % yhat)\r\n"
   ],
   "outputs": [],
   "metadata": {}
  },
  {
   "cell_type": "code",
   "execution_count": null,
   "source": [],
   "outputs": [],
   "metadata": {}
  }
 ],
 "metadata": {
  "kernelspec": {
   "name": "python3",
   "display_name": "Python 3.7.0 64-bit ('base': conda)"
  },
  "language_info": {
   "codemirror_mode": {
    "name": "ipython",
    "version": 3
   },
   "file_extension": ".py",
   "mimetype": "text/x-python",
   "name": "python",
   "nbconvert_exporter": "python",
   "pygments_lexer": "ipython3",
   "version": "3.7.0"
  },
  "interpreter": {
   "hash": "b3ba2566441a7c06988d0923437866b63cedc61552a5af99d1f4fb67d367b25f"
  }
 },
 "nbformat": 4,
 "nbformat_minor": 1
}